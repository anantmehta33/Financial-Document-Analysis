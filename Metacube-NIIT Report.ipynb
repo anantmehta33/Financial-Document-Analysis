{
 "cells": [
  {
   "cell_type": "code",
   "execution_count": 1,
   "id": "8a43bd3d",
   "metadata": {},
   "outputs": [
    {
     "name": "stdout",
     "output_type": "stream",
     "text": [
      "Collecting PyPDF2\n",
      "  Downloading pypdf2-3.0.1-py3-none-any.whl (232 kB)\n",
      "     -------------------------------------- 232.6/232.6 kB 4.7 MB/s eta 0:00:00\n",
      "Requirement already satisfied: typing_extensions>=3.10.0.0 in c:\\anaconda\\lib\\site-packages (from PyPDF2) (4.3.0)\n",
      "Installing collected packages: PyPDF2\n",
      "Successfully installed PyPDF2-3.0.1\n"
     ]
    }
   ],
   "source": [
    "!pip install PyPDF2"
   ]
  },
  {
   "cell_type": "code",
   "execution_count": 10,
   "id": "cff61af7",
   "metadata": {},
   "outputs": [
    {
     "name": "stdout",
     "output_type": "stream",
     "text": [
      "210\n",
      "17$118$/\u00035(3257\u0003 \u0015\u0013\u0014\u001b\u0010\u0014\u001c",
      "\n",
      "The Year Gone By  \n",
      "FY 2019environment as it can jumpstart value delivery to the \n",
      "clients, providing them business agility, competitive advantage. During the year, your company: \n",
      "x\u0003Collaborated with R3 to build solutions on \n",
      "Corda Platform\n",
      " Your company announced a global partnership \n",
      "YKVJ\u0002GPVGTRTKUG\u0002DNQEMEJCKP\u0002UQHVYCTG\u0002ſTO\u0002\n",
      "R3 to \n",
      "develop innovative solutions for Banking and \n",
      "Financial Services , Insurance  and Travel and \n",
      "Transportation verticals on R3’s Corda, an \n",
      "open-source blockchain platform. Through these solutions, NIIT Technologies’ customers would be able to realize the full potential of blockchain and drive transformation in their businesses – executing complex logic to exchange of assets directly, simply and in strict privacy, without the need for costly reconciliation.\n",
      "x\u0003Introduced Chain-m, a Blockchain powered \n",
      "solution for Airlines and its partners\n",
      " Your company released Chain-m, a Blockchain \n",
      "powered solution for Airline and its partners. Chain-m addresses the challenges faced by airlines and its partners in the backend process of settlements. The solution makes ticketing transactions transparent, thereby improving the trust between the entities involved in the operation.\n",
      "x\u0003Acquired WHISHWORKS \n",
      "\u0002 ;QWT\u0002 EQORCP[\u0002 UKIPGF\u0002 C\u0002 FGſPKVKXG\u0002 CITGGOGPV\u0002\n",
      "with WHISHWORKS, a MuleSoft® and \n",
      "Big Data specialist,  and made a strategic \n",
      "investment transaction to strengthen its Digital capabilities, complement existing transformation competencies, and create powerful offerings combination in the Digital Integration space\n",
      "x\u0003Delivered digital transformation for \n",
      "Tokio Marine HCC through Pega based interventions\n",
      " Tokio Marine HCC partnered with NIIT Incessant \n",
      "Pvt. Ltd (erstwhile Incessant Technologies Pvt. Ltd) to implement Pega, a business process automation software, which helped the company to mitigate the risks associated with its disparate legacy systems and build new products at pace.NIIT Technologies clocked the most successful year \n",
      "in the history of the company in FY19 and showed material improvement across all operating parameters. ;QWT\u0002EQORCP[\u0002CEJKGXGF\u0002C\u0002UKIPKſECPV\u0002CEEGNGTCVKQP\u0002KP\u0002revenue growth accompanied by a substantial uptick in operating margins during the year. The growth was broad-based across all our focussed verticals and geographies.\n",
      "The growth was driven by our strategy of ‘Transform \n",
      "at the Intersect.’ This involves  delivering real business outcomes by driving transformation for clients across our chosen verticals through the application of digital and post-digital technologies.\n",
      "This year also marked a seminal moment in your \n",
      "company’s history wherein NIIT Limited entered KPVQ\u0002C\u0002FGſPKVKXG\u0002CITGGOGPV\u0002VQ\u0002UGNN\u0002KVU\u0002JQNFKPI\u0002KP\u00020++6\u0002Technologies Ltd to Baring Private Equity Asia. \n",
      "Transform at the IntersectAs noted earlier, your company’s strategy of ‘Transform \n",
      "at the Intersect’ paid off very well. It also helped the company differentiate actively in the market. Under  \n",
      "this strategy, the company successfully deployed emerging technologies in the context of chosen industry sub-segments from Banking and Financial Services, Insurance and Travel sectors.\n",
      "Furthermore, as part of this strategy, your company \n",
      "drove a sharp capability augmentation in the Cloud, Cognitive, Automation, Digital and Data areas and made strategic investments in platforms, products, \n",
      "partnerships and in onboarding top-tier leadership talent.\n",
      "NIIT Technologies continued to invest in building \n",
      "specialized expertise on industry leading platforms. This makes your company standout in the competitive \n"
     ]
    }
   ],
   "source": [
    "import PyPDF2\n",
    "# creating a pdf file object\n",
    "pdfFileObj = open('NTT.pdf', 'rb')\n",
    "# creating a pdf reader object\n",
    "pdfReader = PyPDF2.PdfReader(pdfFileObj)\n",
    "# printing number of pages in pdf file\n",
    "print(len(pdfReader.pages))\n",
    "# creating a page object\n",
    "pageObj = pdfReader.pages[17]\n",
    "# extracting text from page\n",
    "print(pageObj.extract_text())\n",
    "# closing the pdf file object\n",
    "pdfFileObj.close()"
   ]
  },
  {
   "cell_type": "code",
   "execution_count": 11,
   "id": "11a2e863",
   "metadata": {},
   "outputs": [
    {
     "name": "stdout",
     "output_type": "stream",
     "text": [
      "210\n",
      "b'17$118$/\\x035(3257\\x03 \\x15\\x13\\x14\\x1b\\x10\\x14\\x1c\\nThe Year Gone By  \\nFY 2019environment as it can jumpstart value delivery to the \\nclients, providing them business agility, competitive advantage. During the year, your company: \\nx\\x03Collaborated with R3 to build solutions on \\nCorda Platform\\n Your company announced a global partnership \\nYKVJ\\x02GPVGTRTKUG\\x02DNQEMEJCKP\\x02UQHVYCTG\\x02\\xc5\\xbfTO\\x02\\nR3 to \\ndevelop innovative solutions for Banking and \\nFinancial Services , Insurance  and Travel and \\nTransportation verticals on R3\\xe2\\x80\\x99s Corda, an \\nopen-source blockchain platform. Through these solutions, NIIT Technologies\\xe2\\x80\\x99 customers would be able to realize the full potential of blockchain and drive transformation in their businesses \\xe2\\x80\\x93 executing complex logic to exchange of assets directly, simply and in strict privacy, without the need for costly reconciliation.\\nx\\x03Introduced Chain-m, a Blockchain powered \\nsolution for Airlines and its partners\\n Your company released Chain-m, a Blockchain \\npowered solution for Airline and its partners. Chain-m addresses the challenges faced by airlines and its partners in the backend process of settlements. The solution makes ticketing transactions transparent, thereby improving the trust between the entities involved in the operation.\\nx\\x03Acquired WHISHWORKS \\n\\x02 ;QWT\\x02 EQORCP[\\x02 UKIPGF\\x02 C\\x02 FG\\xc5\\xbfPKVKXG\\x02 CITGGOGPV\\x02\\nwith WHISHWORKS, a MuleSoft\\xc2\\xae and \\nBig Data specialist,  and made a strategic \\ninvestment transaction to strengthen its Digital capabilities, complement existing transformation competencies, and create powerful offerings combination in the Digital Integration space\\nx\\x03Delivered digital transformation for \\nTokio Marine HCC through Pega based interventions\\n Tokio Marine HCC partnered with NIIT Incessant \\nPvt. Ltd (erstwhile Incessant Technologies Pvt. Ltd) to implement Pega, a business process automation software, which helped the company to mitigate the risks associated with its disparate legacy systems and build new products at pace.NIIT Technologies clocked the most successful year \\nin the history of the company in FY19 and showed material improvement across all operating parameters. ;QWT\\x02EQORCP[\\x02CEJKGXGF\\x02C\\x02UKIPK\\xc5\\xbfECPV\\x02CEEGNGTCVKQP\\x02KP\\x02revenue growth accompanied by a substantial uptick in operating margins during the year. The growth was broad-based across all our focussed verticals and geographies.\\nThe growth was driven by our strategy of \\xe2\\x80\\x98Transform \\nat the Intersect.\\xe2\\x80\\x99 This involves  delivering real business outcomes by driving transformation for clients across our chosen verticals through the application of digital and post-digital technologies.\\nThis year also marked a seminal moment in your \\ncompany\\xe2\\x80\\x99s history wherein NIIT Limited entered KPVQ\\x02C\\x02FG\\xc5\\xbfPKVKXG\\x02CITGGOGPV\\x02VQ\\x02UGNN\\x02KVU\\x02JQNFKPI\\x02KP\\x020++6\\x02Technologies Ltd to Baring Private Equity Asia. \\nTransform at the IntersectAs noted earlier, your company\\xe2\\x80\\x99s strategy of \\xe2\\x80\\x98Transform \\nat the Intersect\\xe2\\x80\\x99 paid off very well. It also helped the company differentiate actively in the market. Under  \\nthis strategy, the company successfully deployed emerging technologies in the context of chosen industry sub-segments from Banking and Financial Services, Insurance and Travel sectors.\\nFurthermore, as part of this strategy, your company \\ndrove a sharp capability augmentation in the Cloud, Cognitive, Automation, Digital and Data areas and made strategic investments in platforms, products, \\npartnerships and in onboarding top-tier leadership talent.\\nNIIT Technologies continued to invest in building \\nspecialized expertise on industry leading platforms. This makes your company standout in the competitive '\n"
     ]
    }
   ],
   "source": [
    "import PyPDF2\n",
    "# creating a pdf file object\n",
    "pdfFileObj = open('NTT.pdf', 'rb')\n",
    "# creating a pdf reader object\n",
    "pdfReader = PyPDF2.PdfReader(pdfFileObj)\n",
    "# printing number of pages in pdf file\n",
    "print(len(pdfReader.pages))\n",
    "# creating a page object\n",
    "pageObj = pdfReader.pages[17]\n",
    "# extracting text from page\n",
    "print(pageObj.extract_text().encode('UTF-8'))\n",
    "# closing the pdf file object\n",
    "pdfFileObj.close()"
   ]
  },
  {
   "cell_type": "code",
   "execution_count": 23,
   "id": "5ab85ff4",
   "metadata": {},
   "outputs": [
    {
     "name": "stdout",
     "output_type": "stream",
     "text": [
      "5\n",
      "4\n",
      "or  acted   in  a  cruel  or  unusual\n",
      "manner.”\n",
      "7.We, therefore, agree with the aforesaid\n",
      "view and close the appeal by convicting the accused\n",
      "appellant  under  Section  304  Part  I  IPC  and\n",
      "sentencing him to a period of 10 years imprisonment\n",
      "which, we are told, he has already suffered.\n",
      "8.The appeal is disposed of in the above\n",
      "terms.\n",
      "9.We  express  our  gratitude  to  Shri  S.\n",
      "Nagamuthu, learned Senior Counsel for rendering his\n",
      "services to the Court as the Amicus.  \n",
      "....................,CJI.\n",
      "(RANJAN GOGOI)\n",
      "...................,J.\n",
      "   (L. NAGESWARA RAO)\n",
      "...................,J.\n",
      "   (SANJAY KISHAN KAUL)\n",
      "NEW DELHI\n",
      "JANUARY 09, 2019\n"
     ]
    }
   ],
   "source": [
    "import PyPDF2\n",
    "# creating a pdf file object\n",
    "pdfFileObj = open('trypdf.pdf', 'rb')\n",
    "# creating a pdf reader object\n",
    "pdfReader = PyPDF2.PdfReader(pdfFileObj)\n",
    "# printing number of pages in pdf file\n",
    "print(len(pdfReader.pages))\n",
    "# creating a page object\n",
    "pageObj = pdfReader.pages[3]\n",
    "# extracting text from page\n",
    "print(pageObj.extract_text())\n",
    "# closing the pdf file object\n",
    "pdfFileObj.close()"
   ]
  },
  {
   "cell_type": "code",
   "execution_count": 24,
   "id": "3f4615dd",
   "metadata": {},
   "outputs": [
    {
     "name": "stdout",
     "output_type": "stream",
     "text": [
      "Collecting pdfquery\n",
      "  Downloading pdfquery-0.4.3.tar.gz (17 kB)\n",
      "  Preparing metadata (setup.py): started\n",
      "  Preparing metadata (setup.py): finished with status 'done'\n",
      "Requirement already satisfied: cssselect>=0.7.1 in c:\\anaconda\\lib\\site-packages (from pdfquery) (1.1.0)\n",
      "Requirement already satisfied: chardet in c:\\anaconda\\lib\\site-packages (from pdfquery) (4.0.0)\n",
      "Requirement already satisfied: lxml>=3.0 in c:\\anaconda\\lib\\site-packages (from pdfquery) (4.9.1)\n",
      "Collecting pdfminer.six\n",
      "  Downloading pdfminer.six-20221105-py3-none-any.whl (5.6 MB)\n",
      "     ---------------------------------------- 5.6/5.6 MB 7.5 MB/s eta 0:00:00\n",
      "Collecting pyquery>=1.2.2\n",
      "  Downloading pyquery-2.0.0-py3-none-any.whl (22 kB)\n",
      "Collecting roman>=1.4.0\n",
      "  Downloading roman-4.1-py3-none-any.whl (5.5 kB)\n",
      "Collecting cssselect>=0.7.1\n",
      "  Downloading cssselect-1.2.0-py2.py3-none-any.whl (18 kB)\n",
      "Requirement already satisfied: cryptography>=36.0.0 in c:\\anaconda\\lib\\site-packages (from pdfminer.six->pdfquery) (37.0.1)\n",
      "Requirement already satisfied: charset-normalizer>=2.0.0 in c:\\anaconda\\lib\\site-packages (from pdfminer.six->pdfquery) (2.0.4)\n",
      "Requirement already satisfied: cffi>=1.12 in c:\\anaconda\\lib\\site-packages (from cryptography>=36.0.0->pdfminer.six->pdfquery) (1.15.1)\n",
      "Requirement already satisfied: pycparser in c:\\anaconda\\lib\\site-packages (from cffi>=1.12->cryptography>=36.0.0->pdfminer.six->pdfquery) (2.21)\n",
      "Building wheels for collected packages: pdfquery\n",
      "  Building wheel for pdfquery (setup.py): started\n",
      "  Building wheel for pdfquery (setup.py): finished with status 'done'\n",
      "  Created wheel for pdfquery: filename=pdfquery-0.4.3-py3-none-any.whl size=16783 sha256=deb3c48f3b5fe0180b53fc2cd5f2604251d5fd8b3f680f0517fb06ebec48d05d\n",
      "  Stored in directory: c:\\users\\anant mehta\\appdata\\local\\pip\\cache\\wheels\\9a\\12\\58\\c1c92713b406092cae17f51b6d67ee96c60675c78e7278eb38\n",
      "Successfully built pdfquery\n",
      "Installing collected packages: roman, cssselect, pyquery, pdfminer.six, pdfquery\n",
      "  Attempting uninstall: cssselect\n",
      "    Found existing installation: cssselect 1.1.0\n",
      "    Uninstalling cssselect-1.1.0:\n",
      "      Successfully uninstalled cssselect-1.1.0\n",
      "Successfully installed cssselect-1.2.0 pdfminer.six-20221105 pdfquery-0.4.3 pyquery-2.0.0 roman-4.1\n"
     ]
    }
   ],
   "source": [
    "!pip install pdfquery"
   ]
  },
  {
   "cell_type": "code",
   "execution_count": null,
   "id": "7f90b967",
   "metadata": {},
   "outputs": [],
   "source": [
    "information = [('NTT.pdf',17,20)]\n",
    "from PyPDF2 import PdfReader, PdfWriter\n",
    "\n",
    "reader = PdfReader(\"NTT.pdf\")\n",
    "\n",
    "for page in range(len(reader.pages) - 1):\n",
    "    writer = PdfWriter()\n",
    "    start = information[page][1]\n",
    "    end = information[page][2]\n",
    "    while start <= end:\n",
    "        writer.add_page(reader.pages[start])\n",
    "        start += 1\n",
    "        output_filename = \"{}_{}_page_{}.pdf\".format(\n",
    "            information[page][0], information[page][1], information[page][2]\n",
    "        )\n",
    "    with open(output_filename, \"wb\") as out:\n",
    "        writer.write(out)"
   ]
  },
  {
   "cell_type": "code",
   "execution_count": null,
   "id": "c0a2fc23",
   "metadata": {},
   "outputs": [],
   "source": []
  }
 ],
 "metadata": {
  "kernelspec": {
   "display_name": "Python 3 (ipykernel)",
   "language": "python",
   "name": "python3"
  },
  "language_info": {
   "codemirror_mode": {
    "name": "ipython",
    "version": 3
   },
   "file_extension": ".py",
   "mimetype": "text/x-python",
   "name": "python",
   "nbconvert_exporter": "python",
   "pygments_lexer": "ipython3",
   "version": "3.9.13"
  }
 },
 "nbformat": 4,
 "nbformat_minor": 5
}
