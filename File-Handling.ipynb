{
 "cells": [
  {
   "cell_type": "code",
   "execution_count": 2,
   "id": "27d4ebf2",
   "metadata": {},
   "outputs": [],
   "source": [
    "#File handling in python"
   ]
  },
  {
   "cell_type": "code",
   "execution_count": 29,
   "id": "12269903",
   "metadata": {},
   "outputs": [
    {
     "name": "stdout",
     "output_type": "stream",
     "text": [
      "<_io.TextIOWrapper name='mytext.txt' mode='r' encoding='cp1252'>\n"
     ]
    }
   ],
   "source": [
    "f = open(\"mytext.txt\",'r')\n",
    "print(f)"
   ]
  },
  {
   "cell_type": "code",
   "execution_count": 18,
   "id": "8561c15c",
   "metadata": {},
   "outputs": [
    {
     "name": "stdout",
     "output_type": "stream",
     "text": [
      "Hi! my name is Anant Mehta.\n",
      "This is a file handlin assignment which would be needed for the next task.\n",
      "12 + 32 = 44.\n",
      "Thank you.\n"
     ]
    }
   ],
   "source": [
    "#reading\n",
    "print(f.read())"
   ]
  },
  {
   "cell_type": "code",
   "execution_count": 14,
   "id": "45a79bcf",
   "metadata": {},
   "outputs": [
    {
     "name": "stdout",
     "output_type": "stream",
     "text": [
      "Hi! my name is Anant Mehta.\n",
      "\n"
     ]
    }
   ],
   "source": [
    "#print only one line\n",
    "print(f.readline()) #pointer on first line"
   ]
  },
  {
   "cell_type": "code",
   "execution_count": 15,
   "id": "9b4078de",
   "metadata": {},
   "outputs": [
    {
     "name": "stdout",
     "output_type": "stream",
     "text": [
      "This is a file handlin assignment which would be needed for the next task.\n",
      "\n"
     ]
    }
   ],
   "source": [
    "print(f.readline()) #pointer has moved to the second line"
   ]
  },
  {
   "cell_type": "code",
   "execution_count": 25,
   "id": "bb5e6dd7",
   "metadata": {},
   "outputs": [
    {
     "name": "stdout",
     "output_type": "stream",
     "text": [
      "H\n",
      "i\n",
      "!\n",
      " \n",
      "m\n",
      "y\n",
      " \n",
      "n\n",
      "a\n",
      "m\n",
      "e\n",
      " \n",
      "i\n",
      "s\n",
      " \n",
      "A\n",
      "n\n",
      "a\n",
      "n\n",
      "t\n",
      " \n",
      "M\n",
      "e\n",
      "h\n",
      "t\n",
      "a\n",
      ".\n",
      "\n",
      "\n",
      "T\n",
      "h\n",
      "i\n",
      "s\n",
      " \n",
      "i\n",
      "s\n",
      " \n",
      "a\n",
      " \n",
      "f\n",
      "i\n",
      "l\n",
      "e\n",
      " \n",
      "h\n",
      "a\n",
      "n\n",
      "d\n",
      "l\n",
      "i\n",
      "n\n",
      " \n",
      "a\n",
      "s\n",
      "s\n",
      "i\n",
      "g\n",
      "n\n",
      "m\n",
      "e\n",
      "n\n",
      "t\n",
      " \n",
      "w\n",
      "h\n",
      "i\n",
      "c\n",
      "h\n",
      " \n",
      "w\n",
      "o\n",
      "u\n",
      "l\n",
      "d\n",
      " \n",
      "b\n",
      "e\n",
      " \n",
      "n\n",
      "e\n",
      "e\n",
      "d\n",
      "e\n",
      "d\n",
      " \n",
      "f\n",
      "o\n",
      "r\n",
      " \n",
      "t\n",
      "h\n",
      "e\n",
      " \n",
      "n\n",
      "e\n",
      "x\n",
      "t\n",
      " \n",
      "t\n",
      "a\n",
      "s\n",
      "k\n",
      ".\n",
      "\n",
      "\n",
      "1\n",
      "2\n",
      " \n",
      "+\n",
      " \n",
      "3\n",
      "2\n",
      " \n",
      "=\n",
      " \n",
      "4\n",
      "4\n",
      ".\n",
      "\n",
      "\n",
      "T\n",
      "h\n",
      "a\n",
      "n\n",
      "k\n",
      " \n",
      "y\n",
      "o\n",
      "u\n",
      ".\n"
     ]
    }
   ],
   "source": [
    "#another way to read character by character\n",
    "l=f.read()\n",
    "for i in l:\n",
    "    print(i)"
   ]
  },
  {
   "cell_type": "code",
   "execution_count": 28,
   "id": "277ce5bd",
   "metadata": {},
   "outputs": [
    {
     "name": "stdout",
     "output_type": "stream",
     "text": [
      "Hi!\n"
     ]
    }
   ],
   "source": [
    "print(f.readline(3)) # first 3 char"
   ]
  },
  {
   "cell_type": "code",
   "execution_count": 30,
   "id": "d4dfe9a7",
   "metadata": {},
   "outputs": [
    {
     "name": "stdout",
     "output_type": "stream",
     "text": [
      "Hi!\n"
     ]
    }
   ],
   "source": [
    "print(f.read(3)) # first 3 char"
   ]
  },
  {
   "cell_type": "code",
   "execution_count": 31,
   "id": "9c5edb49",
   "metadata": {},
   "outputs": [],
   "source": [
    "#writing the data onto a new file or overwrite existing file"
   ]
  },
  {
   "cell_type": "code",
   "execution_count": 33,
   "id": "8d76e880",
   "metadata": {},
   "outputs": [
    {
     "data": {
      "text/plain": [
       "16"
      ]
     },
     "execution_count": 33,
     "metadata": {},
     "output_type": "execute_result"
    }
   ],
   "source": [
    "fw=open('mytext1.txt','w')\n",
    "fw.write('New line written')\n",
    "fw.close()"
   ]
  },
  {
   "cell_type": "code",
   "execution_count": 34,
   "id": "e7c4cb65",
   "metadata": {},
   "outputs": [
    {
     "data": {
      "text/plain": [
       "20"
      ]
     },
     "execution_count": 34,
     "metadata": {},
     "output_type": "execute_result"
    }
   ],
   "source": [
    "#appending the data\n",
    "fa=open('mytext1.txt','a')\n",
    "fa.write('and this is appended')"
   ]
  },
  {
   "cell_type": "code",
   "execution_count": 35,
   "id": "4b5df91b",
   "metadata": {},
   "outputs": [],
   "source": [
    "fa.close()"
   ]
  },
  {
   "cell_type": "code",
   "execution_count": 36,
   "id": "b00386b9",
   "metadata": {},
   "outputs": [],
   "source": [
    "#copying data from mytext to mytext2\n",
    "f1=open('mytext.txt','r')\n",
    "l=f1.read()\n",
    "f2=open('mytext2.txt','w')\n",
    "f2.write(l)\n",
    "f1.close()\n",
    "f2.close()"
   ]
  },
  {
   "cell_type": "code",
   "execution_count": null,
   "id": "7857c712",
   "metadata": {},
   "outputs": [],
   "source": []
  }
 ],
 "metadata": {
  "kernelspec": {
   "display_name": "Python 3 (ipykernel)",
   "language": "python",
   "name": "python3"
  },
  "language_info": {
   "codemirror_mode": {
    "name": "ipython",
    "version": 3
   },
   "file_extension": ".py",
   "mimetype": "text/x-python",
   "name": "python",
   "nbconvert_exporter": "python",
   "pygments_lexer": "ipython3",
   "version": "3.9.13"
  }
 },
 "nbformat": 4,
 "nbformat_minor": 5
}
