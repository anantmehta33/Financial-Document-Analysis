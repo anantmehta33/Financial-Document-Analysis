{
 "cells": [
  {
   "cell_type": "code",
   "execution_count": 1,
   "id": "972fd548",
   "metadata": {},
   "outputs": [
    {
     "name": "stdout",
     "output_type": "stream",
     "text": [
      "resource Open\n",
      "2.5\n",
      "Enter a number32\n",
      "32\n",
      "resource Closed\n"
     ]
    }
   ],
   "source": [
    "a = 5\n",
    "b = 2\n",
    "try:\n",
    "    print(\"resource Open\")\n",
    "    print(a/b)\n",
    "    k = int(input(\"Enter a number\"))\n",
    "    print(k)\n",
    "\n",
    "except ZeroDivisionError as e:\n",
    "    print(\"Hey, You cannot divide a Number by Zero\" , e)\n",
    "\n",
    "except ValueError as e:\n",
    "    print(\"Invalid Input\")\n",
    "\n",
    "except Exception as e:\n",
    "    print(\"Something went Wrong...\")\n",
    "\n",
    "finally:\n",
    "    print(\"resource Closed\")"
   ]
  },
  {
   "cell_type": "code",
   "execution_count": null,
   "id": "1cd3de03",
   "metadata": {},
   "outputs": [],
   "source": []
  }
 ],
 "metadata": {
  "kernelspec": {
   "display_name": "Python 3 (ipykernel)",
   "language": "python",
   "name": "python3"
  },
  "language_info": {
   "codemirror_mode": {
    "name": "ipython",
    "version": 3
   },
   "file_extension": ".py",
   "mimetype": "text/x-python",
   "name": "python",
   "nbconvert_exporter": "python",
   "pygments_lexer": "ipython3",
   "version": "3.9.13"
  }
 },
 "nbformat": 4,
 "nbformat_minor": 5
}
