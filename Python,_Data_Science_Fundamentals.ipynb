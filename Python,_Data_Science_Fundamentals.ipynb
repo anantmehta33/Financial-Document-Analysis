{
  "nbformat": 4,
  "nbformat_minor": 0,
  "metadata": {
    "colab": {
      "provenance": []
    },
    "kernelspec": {
      "name": "python3",
      "display_name": "Python 3"
    },
    "language_info": {
      "name": "python"
    }
  },
  "cells": [
    {
      "cell_type": "markdown",
      "source": [
        "Following are the tasks assigned for day 1 and day 2"
      ],
      "metadata": {
        "id": "DNbRgV9SkqX-"
      }
    },
    {
      "cell_type": "code",
      "execution_count": 7,
      "metadata": {
        "colab": {
          "base_uri": "https://localhost:8080/"
        },
        "id": "v-u7obtAkjwj",
        "outputId": "4848ba3b-27f3-4d60-d3c9-61534550e62e"
      },
      "outputs": [
        {
          "output_type": "stream",
          "name": "stdout",
          "text": [
            "\n",
            "&\n",
            "&&\n",
            "&&&\n",
            "&&&&\n",
            "&&&&&\n"
          ]
        }
      ],
      "source": [
        "#printing a right pyramid\n",
        "for i in range(6):\n",
        "   for j in range (i):\n",
        "    print('&',end='')\n",
        "   print('')"
      ]
    },
    {
      "cell_type": "code",
      "source": [
        "#printing a left pyramid\n",
        "n=6\n",
        "for i in range(n,0,-1):\n",
        "  j=i-1\n",
        "  for k in range(j):\n",
        "    print(' ',end='')\n",
        "  for k in range(n-i):\n",
        "    print('&',end='')\n",
        "  print('')\n"
      ],
      "metadata": {
        "colab": {
          "base_uri": "https://localhost:8080/"
        },
        "id": "PsNvBrUDm5zy",
        "outputId": "f95563f3-fc19-40d7-bf19-06755467612a"
      },
      "execution_count": 15,
      "outputs": [
        {
          "output_type": "stream",
          "name": "stdout",
          "text": [
            "     \n",
            "    &\n",
            "   &&\n",
            "  &&&\n",
            " &&&&\n",
            "&&&&&\n"
          ]
        }
      ]
    },
    {
      "cell_type": "code",
      "source": [
        "#full pyramid\n",
        "n=6\n",
        "for i in range(n):\n",
        "  j=2*i-1\n",
        "  s1=int((2*n-j)/2)\n",
        "  s2=s1\n",
        "  for h in range(s1):\n",
        "    print(' ',end='')\n",
        "  for h in range(j):\n",
        "    print('&',end='')\n",
        "  for h in range(s2):\n",
        "    print(' ',end='')\n",
        "  print('')\n"
      ],
      "metadata": {
        "colab": {
          "base_uri": "https://localhost:8080/"
        },
        "id": "dSVQX1i_n9Yd",
        "outputId": "cdc86109-626b-4de9-efb8-038357ffb9ab"
      },
      "execution_count": 21,
      "outputs": [
        {
          "output_type": "stream",
          "name": "stdout",
          "text": [
            "            \n",
            "     &     \n",
            "    &&&    \n",
            "   &&&&&   \n",
            "  &&&&&&&  \n",
            " &&&&&&&&& \n"
          ]
        }
      ]
    },
    {
      "cell_type": "code",
      "source": [
        "#Numpy Basics"
      ],
      "metadata": {
        "id": "jBMwZ0vvr49B"
      },
      "execution_count": 22,
      "outputs": []
    },
    {
      "cell_type": "code",
      "source": [
        "import numpy as np\n",
        "arr=np.array([1,2,3,4,5])"
      ],
      "metadata": {
        "id": "mT5DIgJ7t2OS"
      },
      "execution_count": 23,
      "outputs": []
    },
    {
      "cell_type": "code",
      "source": [
        "#(a) Reversing the array\n",
        "arr2=arr[::-1]\n",
        "print(arr2)\n",
        "#(b) Flattening\n",
        "array1= np.array([[1, 2, 3], [2, 4, 5], [1, 2, 3]])\n",
        "fl1=array1.flatten()\n",
        "print(fl1)\n",
        "fl1=array1.flatten('C') # Row major order\n",
        "print(fl1)\n",
        "#(C) comparing\n",
        "arr1 = np.array([[1, 2], [3, 4]]) \n",
        "arr2 = np.array([[1, 2], [3, 4]])\n",
        "print(np.array_equal(arr1, arr2))\n",
        "#(d)\n",
        "x = np.array([1,2,3,4,5,1,2,1,1,1])\n",
        "j=np.bincount(x).argmax()\n",
        "print('most freq element is ',np.bincount(x).argmax())\n",
        "print('indices are : ')\n",
        "for i in range(len(x)):\n",
        "  if x[i] == j:\n",
        "    print(i)\n",
        "y = np.array([1, 1, 1, 2, 3, 4, 2, 4, 3, 3, ])\n",
        "j=np.bincount(y).argmax()\n",
        "print('most freq element is ',np.bincount(y).argmax())\n",
        "print('indices are : ')\n",
        "for i in range(len(y)):\n",
        "  if x[i] == j:\n",
        "    print(i)\n",
        "#(e)\n",
        "gfg = np.matrix('[4, 1, 9; 12, 3, 1; 4, 5, 6]')\n",
        "print('sum of all elements is',np.sum(gfg))\n",
        "print(\"Sum of gfg(row) : \", np.sum(gfg, axis = 0)) \n",
        "print(\"Sum of gfg(col) : \", np.sum(gfg, axis = 1))\n",
        "#(f)\n",
        "n_array = np.array([[55, 25, 15],[30, 44, 2],[11, 45, 77]])\n",
        "print('sum of diag elements ',np.trace(n_array))\n",
        "w, v = np.linalg.eig(n_array)\n",
        "print('eigen value ',w)\n",
        "print('eigen vector ',v)\n",
        "print('Inverse',np.linalg.inv(n_array))\n",
        "print('determinant',np.linalg.det(n_array))\n",
        "#(g)\n",
        "#1.\n",
        "p = [[1, 2], [2, 3]] \n",
        "q = [[4, 5], [6, 7]]\n",
        "print('product of p and q')\n",
        "print(np.dot(p,q))\n",
        "print(\"\\nCovariance matrices\\n\",\n",
        "      np.cov(p,q))\n",
        "p = [[1, 2], [2, 3], [4, 5]]\n",
        "q = [[4, 5, 1], [6, 7, 2]]\n",
        "print('product of p and q')\n",
        "print(np.dot(p,q))\n",
        "print(\"covariance can't be found\")\n",
        "#(h)\n",
        "x = np.array([[2, 3, 4], [3, 2, 9]])\n",
        "y = np.array([[1, 5, 0], [5, 10, 3]])\n",
        "print(\"\\nInner product\")\n",
        "print(np.inner(x, y))\n",
        "print(\"\\nouter product\")\n",
        "print(np.inner(x, y))\n",
        "print(\"\\nCartesian product is \")\n",
        "print(np.cross(x,y))"
      ],
      "metadata": {
        "colab": {
          "base_uri": "https://localhost:8080/"
        },
        "id": "FxtSklWquFuw",
        "outputId": "4e0c9a43-ad9f-402d-a2db-6726cba6db9d"
      },
      "execution_count": 24,
      "outputs": [
        {
          "output_type": "stream",
          "name": "stdout",
          "text": [
            "[5 4 3 2 1]\n",
            "[1 2 3 2 4 5 1 2 3]\n",
            "[1 2 3 2 4 5 1 2 3]\n",
            "True\n",
            "most freq element is  1\n",
            "indices are : \n",
            "0\n",
            "5\n",
            "7\n",
            "8\n",
            "9\n",
            "most freq element is  1\n",
            "indices are : \n",
            "0\n",
            "5\n",
            "7\n",
            "8\n",
            "9\n",
            "sum of all elements is 45\n",
            "Sum of gfg(row) :  [[20  9 16]]\n",
            "Sum of gfg(col) :  [[14]\n",
            " [16]\n",
            " [15]]\n",
            "sum of diag elements  176\n",
            "eigen value  [98.16835147 28.097044   49.73460452]\n",
            "eigen vector  [[ 0.4574917   0.34637121 -0.15017693]\n",
            " [ 0.28447814 -0.72784061 -0.4852124 ]\n",
            " [ 0.84248058  0.59184038  0.8614034 ]]\n",
            "Inverse [[ 0.02404141 -0.00911212 -0.00444671]\n",
            " [-0.01667882  0.02966905  0.0024785 ]\n",
            " [ 0.00631287 -0.01603732  0.01217379]]\n",
            "determinant 137180.0000000001\n",
            "product of p and q\n",
            "[[16 19]\n",
            " [26 31]]\n",
            "\n",
            "Covariance matrices\n",
            " [[0.5 0.5 0.5 0.5]\n",
            " [0.5 0.5 0.5 0.5]\n",
            " [0.5 0.5 0.5 0.5]\n",
            " [0.5 0.5 0.5 0.5]]\n",
            "product of p and q\n",
            "[[16 19  5]\n",
            " [26 31  8]\n",
            " [46 55 14]]\n",
            "covariance can't be found\n",
            "\n",
            "Inner product\n",
            "[[17 52]\n",
            " [13 62]]\n",
            "\n",
            "outer product\n",
            "[[17 52]\n",
            " [13 62]]\n",
            "\n",
            "Cartesian product is \n",
            "[[-20   4   7]\n",
            " [-84  36  20]]\n"
          ]
        }
      ]
    },
    {
      "cell_type": "code",
      "source": [
        "#(a)\n",
        "import numpy as np\n",
        "array = np.array([[1, -2, 3],[-4, 5, -6]])\n",
        "#(i)\n",
        "print(np.absolute(array))\n",
        "#(ii)\n",
        "arr=array.flatten()\n",
        "x = np.percentile(arr, 25)\n",
        "print('25th percentile',x)\n",
        "x = np.percentile(arr, 50)\n",
        "print('50th percentile',x)\n",
        "x = np.percentile(arr, 75)\n",
        "print('75th percentile',x)\n",
        "#(iii)\n",
        "F_r=array.flatten('C')\n",
        "#print(F_r)\n",
        "print('For Row major')\n",
        "print('mean is',np.mean(F_r))\n",
        "print('median is',np.median(F_r))\n",
        "print('standard deviation is ',np.std(F_r))\n",
        "F_r=array.flatten('F')\n",
        "#print(F_r)\n",
        "print('For col major')\n",
        "print('mean is',np.mean(F_r))\n",
        "print('median is',np.median(F_r))\n",
        "print('standard deviation is ',np.std(F_r))\n",
        "#(b)\n",
        "a = np.array([-1.8, -1.6, -0.5, 0.5,1.6, 1.8, 3.0])\n",
        "print (\"Floor values : \\n\",np.floor(a))\n",
        "print (\"ceil values : \\n\",np.ceil(a))\n",
        "print (\"truncated values : \\n\",np.trunc(a))\n",
        "print (\"rounded values : \\n\",np.round(a))"
      ],
      "metadata": {
        "colab": {
          "base_uri": "https://localhost:8080/"
        },
        "id": "iEOhEv7XuIok",
        "outputId": "a9780da0-fe66-41aa-e02f-655fda3a0171"
      },
      "execution_count": 25,
      "outputs": [
        {
          "output_type": "stream",
          "name": "stdout",
          "text": [
            "[[1 2 3]\n",
            " [4 5 6]]\n",
            "25th percentile -3.5\n",
            "50th percentile -0.5\n",
            "75th percentile 2.5\n",
            "For Row major\n",
            "mean is -0.5\n",
            "median is -0.5\n",
            "standard deviation is  3.8622100754188224\n",
            "For col major\n",
            "mean is -0.5\n",
            "median is -0.5\n",
            "standard deviation is  3.8622100754188224\n",
            "Floor values : \n",
            " [-2. -2. -1.  0.  1.  1.  3.]\n",
            "ceil values : \n",
            " [-1. -1. -0.  1.  2.  2.  3.]\n",
            "truncated values : \n",
            " [-1. -1. -0.  0.  1.  1.  3.]\n",
            "rounded values : \n",
            " [-2. -2. -0.  0.  2.  2.  3.]\n"
          ]
        }
      ]
    },
    {
      "cell_type": "code",
      "source": [
        "array = np.array([10, 52, 62, 16, 16, 54, 453])\n",
        "#(i)\n",
        "print('sorted array',np.sort(array))\n",
        "#(ii)\n",
        "out_arr = np.argsort(array)\n",
        "print('indices of sorted array',out_arr)\n",
        "#(iii)\n",
        "print('4',\"smallest elements of the array\")\n",
        "t=np.sort(array)\n",
        "k=t[:4]\n",
        "print(k)\n",
        "print('5 largest elements are ')\n",
        "print((t[::-1])[:5])\n",
        "#(b)\n",
        "array = np.array([1.0, 1.2, 2.2, 2.0, 3.0, 2.0])\n",
        "#(i)\n",
        "print('Integer elements are')\n",
        "for i in range(len(array)):\n",
        "  if np.floor(array[i]) == array[i]:\n",
        "    print(array[i])\n",
        "print('Float elements are')\n",
        "for i in range(len(array)):\n",
        "  if np.floor(array[i]) != array[i]:\n",
        "    print(array[i])"
      ],
      "metadata": {
        "colab": {
          "base_uri": "https://localhost:8080/"
        },
        "id": "yi0ORow7uLxD",
        "outputId": "1e33edb0-a36e-4ce7-e175-e778a146f52f"
      },
      "execution_count": 26,
      "outputs": [
        {
          "output_type": "stream",
          "name": "stdout",
          "text": [
            "sorted array [ 10  16  16  52  54  62 453]\n",
            "indices of sorted array [0 3 4 1 5 2 6]\n",
            "4 smallest elements of the array\n",
            "[10 16 16 52]\n",
            "5 largest elements are \n",
            "[453  62  54  52  16]\n",
            "Integer elements are\n",
            "1.0\n",
            "2.0\n",
            "3.0\n",
            "2.0\n",
            "Float elements are\n",
            "1.2\n",
            "2.2\n"
          ]
        }
      ]
    },
    {
      "cell_type": "code",
      "source": [],
      "metadata": {
        "id": "fhC9FPeTuOJJ"
      },
      "execution_count": null,
      "outputs": []
    }
  ]
}