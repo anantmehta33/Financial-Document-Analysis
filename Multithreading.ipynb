{
 "cells": [
  {
   "cell_type": "code",
   "execution_count": 4,
   "id": "c0c78607",
   "metadata": {},
   "outputs": [
    {
     "name": "stdout",
     "output_type": "stream",
     "text": [
      "abc\n",
      "def\n",
      "abc\n",
      "def\n",
      "abc\n",
      "def\n",
      "abc\n",
      "def\n",
      "abc\n",
      "def\n",
      "Bye\n"
     ]
    }
   ],
   "source": [
    "from time import sleep\n",
    "from threading import *\n",
    "\n",
    "class Hello(Thread):\n",
    "    def run(self):#called by thread \n",
    "        for i in range(5):\n",
    "            print(\"abc\")\n",
    "            sleep(1)\n",
    "\n",
    "\n",
    "class Hi(Thread):\n",
    "    def run(self):#called by thread\n",
    "        for i in range(5):\n",
    "            print(\"def\")\n",
    "            sleep(1)\n",
    "\n",
    "\n",
    "t1 = Hello()\n",
    "t2 = Hi()\n",
    "\n",
    "t1.start()\n",
    "sleep(0.1)#so hi is printed after hello\n",
    "t2.start()\n",
    "\n",
    "t1.join()\n",
    "t2.join()\n",
    "\n",
    "print(\"Bye\")"
   ]
  },
  {
   "cell_type": "code",
   "execution_count": null,
   "id": "5b549933",
   "metadata": {},
   "outputs": [],
   "source": []
  }
 ],
 "metadata": {
  "kernelspec": {
   "display_name": "Python 3 (ipykernel)",
   "language": "python",
   "name": "python3"
  },
  "language_info": {
   "codemirror_mode": {
    "name": "ipython",
    "version": 3
   },
   "file_extension": ".py",
   "mimetype": "text/x-python",
   "name": "python",
   "nbconvert_exporter": "python",
   "pygments_lexer": "ipython3",
   "version": "3.9.13"
  }
 },
 "nbformat": 4,
 "nbformat_minor": 5
}
